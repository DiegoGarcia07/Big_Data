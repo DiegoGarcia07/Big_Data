{
  "nbformat": 4,
  "nbformat_minor": 0,
  "metadata": {
    "colab": {
      "provenance": []
    },
    "kernelspec": {
      "name": "python3",
      "display_name": "Python 3"
    },
    "language_info": {
      "name": "python"
    }
  },
  "cells": [
    {
      "cell_type": "markdown",
      "source": [
        "# Diego Ivan Garcia Zarza   2897709"
      ],
      "metadata": {
        "id": "hP9xsFChDU60"
      }
    },
    {
      "cell_type": "code",
      "execution_count": null,
      "metadata": {
        "id": "jv8iBLb4CMf8"
      },
      "outputs": [],
      "source": [
        "%%capture\n",
        "!pip install rpy2==3.5.1"
      ]
    },
    {
      "cell_type": "code",
      "source": [
        "%load_ext rpy2.ipython"
      ],
      "metadata": {
        "id": "XdFsqxoWCxD7"
      },
      "execution_count": 2,
      "outputs": []
    },
    {
      "cell_type": "code",
      "source": [
        "from google.colab import drive\n",
        "drive.mount('/content/drive', force_remount=True)"
      ],
      "metadata": {
        "id": "fnPiH4U2C0cx",
        "colab": {
          "base_uri": "https://localhost:8080/",
          "height": 0
        },
        "outputId": "4634dbe0-9c84-42e0-f421-5f4235f76d6a"
      },
      "execution_count": 3,
      "outputs": [
        {
          "output_type": "stream",
          "name": "stdout",
          "text": [
            "Mounted at /content/drive\n"
          ]
        }
      ]
    },
    {
      "cell_type": "code",
      "source": [
        "%%R\n",
        "library(readr)\n",
        "library(magrittr)\n",
        "library(dplyr)"
      ],
      "metadata": {
        "id": "hGOXqXKTDB60",
        "colab": {
          "base_uri": "https://localhost:8080/",
          "height": 0
        },
        "outputId": "e9c585a1-4f5d-4c47-a02b-a08a2b8509d5"
      },
      "execution_count": 4,
      "outputs": [
        {
          "output_type": "stream",
          "name": "stderr",
          "text": [
            "WARNING:rpy2.rinterface_lib.callbacks:R[write to console]: \n",
            "Attaching package: ‘dplyr’\n",
            "\n",
            "\n",
            "WARNING:rpy2.rinterface_lib.callbacks:R[write to console]: The following objects are masked from ‘package:stats’:\n",
            "\n",
            "    filter, lag\n",
            "\n",
            "\n",
            "WARNING:rpy2.rinterface_lib.callbacks:R[write to console]: The following objects are masked from ‘package:base’:\n",
            "\n",
            "    intersect, setdiff, setequal, union\n",
            "\n",
            "\n"
          ]
        }
      ]
    },
    {
      "cell_type": "code",
      "source": [
        "%%R\n",
        "data <- read.csv(\"drive/MyDrive/Big_Data/videogames.csv\")"
      ],
      "metadata": {
        "id": "g12cxOLPDEOD"
      },
      "execution_count": 5,
      "outputs": []
    },
    {
      "cell_type": "markdown",
      "source": [
        "1. Cantidad de videojuegos por plataforma"
      ],
      "metadata": {
        "id": "j4vm54GyDdAK"
      }
    },
    {
      "cell_type": "code",
      "source": [
        "%%R \n",
        "data %>%\n",
        "group_by(Platform)%>%\n",
        "count()%>%\n",
        "arrange(desc(n))%>%\n",
        "print(n=31)"
      ],
      "metadata": {
        "id": "SnhUGiLODhN1",
        "colab": {
          "base_uri": "https://localhost:8080/",
          "height": 0
        },
        "outputId": "bec710b6-4442-4bc1-cb7b-07f03a24e899"
      },
      "execution_count": 6,
      "outputs": [
        {
          "output_type": "stream",
          "name": "stdout",
          "text": [
            "# A tibble: 31 × 2\n",
            "# Groups:   Platform [31]\n",
            "   Platform     n\n",
            "   <chr>    <int>\n",
            " 1 PS2       2161\n",
            " 2 DS        2152\n",
            " 3 PS3       1331\n",
            " 4 Wii       1320\n",
            " 5 X360      1262\n",
            " 6 PSP       1209\n",
            " 7 PS        1197\n",
            " 8 PC         974\n",
            " 9 XB         824\n",
            "10 GBA        822\n",
            "11 GC         556\n",
            "12 3DS        520\n",
            "13 PSV        432\n",
            "14 PS4        393\n",
            "15 N64        319\n",
            "16 XOne       247\n",
            "17 SNES       239\n",
            "18 SAT        173\n",
            "19 WiiU       147\n",
            "20 2600       133\n",
            "21 GB          98\n",
            "22 NES         98\n",
            "23 DC          52\n",
            "24 GEN         29\n",
            "25 NG          12\n",
            "26 SCD          6\n",
            "27 WS           6\n",
            "28 3DO          3\n",
            "29 TG16         2\n",
            "30 GG           1\n",
            "31 PCFX         1\n"
          ]
        }
      ]
    },
    {
      "cell_type": "markdown",
      "source": [
        "2. Cantidad de videojuegos por rating"
      ],
      "metadata": {
        "id": "pHFxzp85FAe1"
      }
    },
    {
      "cell_type": "code",
      "source": [
        "%%R \n",
        "data %>%\n",
        "group_by(Rating) %>%\n",
        "filter(!is.na(Rating) & Rating != \"\") %>%\n",
        "summarize(cantidad = n())%>%\n",
        "arrange(desc(cantidad))\n"
      ],
      "metadata": {
        "id": "_VplLqG3FFHI",
        "colab": {
          "base_uri": "https://localhost:8080/",
          "height": 0
        },
        "outputId": "0fbe91df-7787-4595-acf5-cb0f8eb09947"
      },
      "execution_count": 7,
      "outputs": [
        {
          "output_type": "stream",
          "name": "stdout",
          "text": [
            "# A tibble: 8 × 2\n",
            "  Rating cantidad\n",
            "  <chr>     <int>\n",
            "1 E          3991\n",
            "2 T          2961\n",
            "3 M          1563\n",
            "4 E10+       1420\n",
            "5 EC            8\n",
            "6 K-A           3\n",
            "7 RP            3\n",
            "8 AO            1\n"
          ]
        }
      ]
    },
    {
      "cell_type": "markdown",
      "source": [
        "3. Cantidad de videojuegos lanzados antes del año 2000 y cantidad de videojuegos lanzados despues del año 2000"
      ],
      "metadata": {
        "id": "DGTZtwRmJKAQ"
      }
    },
    {
      "cell_type": "code",
      "source": [
        "%%R\n",
        "antes.2000 <- data %>%\n",
        "filter(!is.na(Year_of_Release) & Year_of_Release != \"\" & Year_of_Release <2000)%>%\n",
        "count()%>%\n",
        "arrange(desc(n))\n",
        "antes.2000\n"
      ],
      "metadata": {
        "id": "zqNaAxF3J_q9",
        "colab": {
          "base_uri": "https://localhost:8080/",
          "height": 0
        },
        "outputId": "84130ea1-dd3a-458a-c4f1-b7de7fe6e9c9"
      },
      "execution_count": 8,
      "outputs": [
        {
          "output_type": "stream",
          "name": "stdout",
          "text": [
            "     n\n",
            "1 1976\n"
          ]
        }
      ]
    },
    {
      "cell_type": "code",
      "source": [
        "%%R\n",
        "despues.2000 <- data%>%\n",
        "filter(!is.na(Year_of_Release) & Year_of_Release != \"\" & Year_of_Release >=2000)%>%\n",
        "count()%>%\n",
        "arrange(desc(n))\n",
        "despues.2000"
      ],
      "metadata": {
        "id": "UGfI2GNuWjvM",
        "colab": {
          "base_uri": "https://localhost:8080/",
          "height": 0
        },
        "outputId": "8344ca16-0d24-482d-fdb7-35c82eedc721"
      },
      "execution_count": 9,
      "outputs": [
        {
          "output_type": "stream",
          "name": "stdout",
          "text": [
            "      n\n",
            "1 14743\n"
          ]
        }
      ]
    },
    {
      "cell_type": "markdown",
      "source": [
        "4. Plataforma cuyos videojuegos han recibido el mayor numero de criticas"
      ],
      "metadata": {
        "id": "7H8wp8EYPIdG"
      }
    },
    {
      "cell_type": "code",
      "source": [
        "%%R\n",
        "data %>%\n",
        "filter(!is.na(Critic_Count) & Platform !=\"\")%>%\n",
        "group_by(Platform)%>%\n",
        "summarize( cantidad = sum(Critic_Count))%>%\n",
        "arrange(desc(cantidad))%>%\n",
        "head(1)"
      ],
      "metadata": {
        "id": "PoQKrJPrPQFQ",
        "colab": {
          "base_uri": "https://localhost:8080/",
          "height": 0
        },
        "outputId": "4ba0082d-d8a5-49fc-a18a-50c2c2025197"
      },
      "execution_count": 10,
      "outputs": [
        {
          "output_type": "stream",
          "name": "stdout",
          "text": [
            "# A tibble: 1 × 2\n",
            "  Platform cantidad\n",
            "  <chr>       <int>\n",
            "1 X360        38583\n"
          ]
        }
      ]
    },
    {
      "cell_type": "markdown",
      "source": [
        "5. Cantidad de videojuegos por genero"
      ],
      "metadata": {
        "id": "iPBpoibzQWuv"
      }
    },
    {
      "cell_type": "code",
      "source": [
        "%%R \n",
        "data %>%\n",
        "group_by(Genre) %>%\n",
        "filter(!is.na(Genre) & Genre != \"\") %>%\n",
        "summarize(cantidad = n())%>%\n",
        "arrange(desc(cantidad))\n",
        "\n"
      ],
      "metadata": {
        "id": "Pj-V8wE5QhAh",
        "colab": {
          "base_uri": "https://localhost:8080/",
          "height": 0
        },
        "outputId": "addf5ae5-3396-4f8a-cccf-bdfe3e0abfdb"
      },
      "execution_count": 11,
      "outputs": [
        {
          "output_type": "stream",
          "name": "stdout",
          "text": [
            "# A tibble: 12 × 2\n",
            "   Genre        cantidad\n",
            "   <chr>           <int>\n",
            " 1 Action           3370\n",
            " 2 Sports           2348\n",
            " 3 Misc             1750\n",
            " 4 Role-Playing     1500\n",
            " 5 Shooter          1323\n",
            " 6 Adventure        1303\n",
            " 7 Racing           1249\n",
            " 8 Platform          888\n",
            " 9 Simulation        874\n",
            "10 Fighting          849\n",
            "11 Strategy          683\n",
            "12 Puzzle            580\n"
          ]
        }
      ]
    },
    {
      "cell_type": "markdown",
      "source": [
        "6. Ventas totales en Norteamerica por parte de cada empresa desarrolladora"
      ],
      "metadata": {
        "id": "pinwD2hgYagh"
      }
    },
    {
      "cell_type": "code",
      "source": [
        "%%R\n",
        "data%>%\n",
        "group_by(Developer)%>%\n",
        "filter(!is.na(Developer) & Developer != \"\") %>%\n",
        "summarize(ventas = sum(NA_Sales))%>%\n",
        "arrange(desc(ventas))"
      ],
      "metadata": {
        "id": "iWwuVDkaYorp",
        "colab": {
          "base_uri": "https://localhost:8080/",
          "height": 0
        },
        "outputId": "84d78312-174e-4aff-eb5e-4338f3113e68"
      },
      "execution_count": 12,
      "outputs": [
        {
          "output_type": "stream",
          "name": "stdout",
          "text": [
            "# A tibble: 1,696 × 2\n",
            "   Developer        ventas\n",
            "   <chr>             <dbl>\n",
            " 1 Nintendo          231. \n",
            " 2 EA Sports          96.8\n",
            " 3 EA Tiburon         78.7\n",
            " 4 Ubisoft            76.9\n",
            " 5 EA Canada          66.2\n",
            " 6 Treyarch           56.9\n",
            " 7 Visual Concepts    56.0\n",
            " 8 Rockstar North     55.2\n",
            " 9 Ubisoft Montreal   51.6\n",
            "10 Capcom             46.7\n",
            "# ℹ 1,686 more rows\n",
            "# ℹ Use `print(n = ...)` to see more rows\n"
          ]
        }
      ]
    },
    {
      "cell_type": "markdown",
      "source": [
        "7. Ventas globales por genero de videojuegos"
      ],
      "metadata": {
        "id": "BdN_A0ffaOlU"
      }
    },
    {
      "cell_type": "code",
      "source": [
        "%%R\n",
        "data%>%\n",
        "group_by(Genre)%>%\n",
        "filter(!is.na(Genre) & Genre != \"\") %>%\n",
        "summarize(ventas = round(sum(Global_Sales)))%>%\n",
        "arrange(desc(ventas))"
      ],
      "metadata": {
        "id": "ut9-4HoCaUHL",
        "colab": {
          "base_uri": "https://localhost:8080/",
          "height": 0
        },
        "outputId": "aa739f3a-a7f0-4fa9-bf1b-15aac0c17e00"
      },
      "execution_count": 13,
      "outputs": [
        {
          "output_type": "stream",
          "name": "stdout",
          "text": [
            "# A tibble: 12 × 2\n",
            "   Genre        ventas\n",
            "   <chr>         <dbl>\n",
            " 1 Action         1745\n",
            " 2 Sports         1332\n",
            " 3 Shooter        1053\n",
            " 4 Role-Playing    934\n",
            " 5 Platform        828\n",
            " 6 Misc            803\n",
            " 7 Racing          729\n",
            " 8 Fighting        447\n",
            " 9 Simulation      390\n",
            "10 Puzzle          243\n",
            "11 Adventure       238\n",
            "12 Strategy        174\n"
          ]
        }
      ]
    },
    {
      "cell_type": "markdown",
      "source": [
        "8. Region en donde se ha obtenido la mayor cantidad de ventas de videojuegos"
      ],
      "metadata": {
        "id": "SJmW3pqvbBoo"
      }
    },
    {
      "cell_type": "code",
      "source": [
        "%%R\n",
        "data %>%\n",
        "select(NA_Sales,EU_Sales,JP_Sales,Other_Sales)%>%\n",
        "colSums()%>%\n",
        "which.max()"
      ],
      "metadata": {
        "id": "n3VR0DwguH3F",
        "colab": {
          "base_uri": "https://localhost:8080/",
          "height": 0
        },
        "outputId": "8354d24a-5cb0-4164-a200-1d982a234ea6"
      },
      "execution_count": 24,
      "outputs": [
        {
          "output_type": "stream",
          "name": "stdout",
          "text": [
            "NA_Sales \n",
            "       1 \n"
          ]
        }
      ]
    },
    {
      "cell_type": "markdown",
      "source": [
        "9. Videojuego mas vendido cada año"
      ],
      "metadata": {
        "id": "J_QmK6nlffpq"
      }
    },
    {
      "cell_type": "code",
      "source": [
        "%%R\n",
        "resultados<-data %>%\n",
        "select(Name,Year_of_Release,Global_Sales)%>%\n",
        "filter(!is.na(Year_of_Release))%>%\n",
        "group_by(Year_of_Release)%>%\n",
        "slice_max(Global_Sales)\n",
        "\n",
        "\n",
        "resultados <- resultados[resultados$Year_of_Release != \"N/A\",]\n",
        "print(resultados, n=40)\n"
      ],
      "metadata": {
        "id": "z3AyUi41gScD",
        "colab": {
          "base_uri": "https://localhost:8080/",
          "height": 0
        },
        "outputId": "b9ccd722-1908-46c5-9ff9-37adcdcab512"
      },
      "execution_count": 25,
      "outputs": [
        {
          "output_type": "stream",
          "name": "stdout",
          "text": [
            "# A tibble: 39 × 3\n",
            "# Groups:   Year_of_Release [39]\n",
            "   Name                                             Year_of_Release Global_Sales\n",
            "   <chr>                                            <chr>                  <dbl>\n",
            " 1 Asteroids                                        1980                    4.31\n",
            " 2 Pitfall!                                         1981                    4.5 \n",
            " 3 Pac-Man                                          1982                    7.81\n",
            " 4 Baseball                                         1983                    3.2 \n",
            " 5 Duck Hunt                                        1984                   28.3 \n",
            " 6 Super Mario Bros.                                1985                   40.2 \n",
            " 7 The Legend of Zelda                              1986                    6.51\n",
            " 8 Zelda II: The Adventure of Link                  1987                    4.38\n",
            " 9 Super Mario Bros. 3                              1988                   17.3 \n",
            "10 Tetris                                           1989                   30.3 \n",
            "11 Super Mario World                                1990                   20.6 \n",
            "12 The Legend of Zelda: A Link to the Past          1991                    4.61\n",
            "13 Super Mario Land 2: 6 Golden Coins               1992                   11.2 \n",
            "14 Super Mario All-Stars                            1993                   10.6 \n",
            "15 Donkey Kong Country                              1994                    9.3 \n",
            "16 Donkey Kong Country 2: Diddy's Kong Quest        1995                    5.15\n",
            "17 Pokemon Red/Pokemon Blue                         1996                   31.4 \n",
            "18 Gran Turismo                                     1997                   11.0 \n",
            "19 Pokémon Yellow: Special Pikachu Edition          1998                   14.6 \n",
            "20 Pokemon Gold/Pokemon Silver                      1999                   23.1 \n",
            "21 Pokémon Crystal Version                          2000                    6.39\n",
            "22 Gran Turismo 3: A-Spec                           2001                   15.0 \n",
            "23 Grand Theft Auto: Vice City                      2002                   16.2 \n",
            "24 Need for Speed Underground                       2003                    7.2 \n",
            "25 Grand Theft Auto: San Andreas                    2004                   20.8 \n",
            "26 Nintendogs                                       2005                   24.7 \n",
            "27 Wii Sports                                       2006                   82.5 \n",
            "28 Wii Fit                                          2007                   22.7 \n",
            "29 Mario Kart Wii                                   2008                   35.5 \n",
            "30 Wii Sports Resort                                2009                   32.8 \n",
            "31 Kinect Adventures!                               2010                   21.8 \n",
            "32 Call of Duty: Modern Warfare 3                   2011                   14.7 \n",
            "33 Call of Duty: Black Ops II                       2012                   13.8 \n",
            "34 Grand Theft Auto V                               2013                   21.0 \n",
            "35 Grand Theft Auto V                               2014                   12.6 \n",
            "36 Call of Duty: Black Ops 3                        2015                   14.6 \n",
            "37 FIFA 17                                          2016                    7.59\n",
            "38 Phantasy Star Online 2 Episode 4: Deluxe Package 2017                    0.04\n",
            "39 Imagine: Makeup Artist                           2020                    0.29\n"
          ]
        }
      ]
    },
    {
      "cell_type": "markdown",
      "source": [
        "10. Videojuego mas viejo y videojuego mas nuevo de acuerdo al registro"
      ],
      "metadata": {
        "id": "oMXI3MFNjSd5"
      }
    },
    {
      "cell_type": "code",
      "source": [
        "%%R\n",
        "data %>%\n",
        "select(Name,Year_of_Release)%>%\n",
        "filter(Year_of_Release != \"N/A\")%>%\n",
        "arrange(desc(Year_of_Release))%>%\n",
        "head(1)"
      ],
      "metadata": {
        "id": "cUQxrB84khgo",
        "colab": {
          "base_uri": "https://localhost:8080/",
          "height": 0
        },
        "outputId": "8095990f-cb51-45d8-f36c-9718feb01f83"
      },
      "execution_count": 26,
      "outputs": [
        {
          "output_type": "stream",
          "name": "stdout",
          "text": [
            "                    Name Year_of_Release\n",
            "1 Imagine: Makeup Artist            2020\n"
          ]
        }
      ]
    },
    {
      "cell_type": "code",
      "source": [
        "%%R\n",
        "data %>%\n",
        "select(Name,Year_of_Release)%>%\n",
        "filter(Year_of_Release != \"N/A\")%>%\n",
        "arrange(desc(Year_of_Release))%>%\n",
        "tail(9)"
      ],
      "metadata": {
        "id": "luf13y_im-KW",
        "colab": {
          "base_uri": "https://localhost:8080/",
          "height": 0
        },
        "outputId": "619003b8-a185-4654-a74b-5d0aa98d18a6"
      },
      "execution_count": 27,
      "outputs": [
        {
          "output_type": "stream",
          "name": "stdout",
          "text": [
            "                 Name Year_of_Release\n",
            "16442       Asteroids            1980\n",
            "16443 Missile Command            1980\n",
            "16444         Kaboom!            1980\n",
            "16445        Defender            1980\n",
            "16446          Boxing            1980\n",
            "16447      Ice Hockey            1980\n",
            "16448         Freeway            1980\n",
            "16449          Bridge            1980\n",
            "16450        Checkers            1980\n"
          ]
        }
      ]
    },
    {
      "cell_type": "markdown",
      "source": [
        "11. Videojuego mas vendido globalmente de tu genero favorito"
      ],
      "metadata": {
        "id": "nU2t-qqmnHzq"
      }
    },
    {
      "cell_type": "code",
      "source": [
        "%%R\n",
        "data%>%\n",
        "select(Name,Genre,Global_Sales)%>%\n",
        "filter(Genre ==\"Action\")%>%\n",
        "slice_max(Global_Sales)"
      ],
      "metadata": {
        "id": "8amFlZZdnUsq",
        "colab": {
          "base_uri": "https://localhost:8080/",
          "height": 0
        },
        "outputId": "fa774495-676c-409d-9d87-67eef8aaed61"
      },
      "execution_count": 28,
      "outputs": [
        {
          "output_type": "stream",
          "name": "stdout",
          "text": [
            "                Name  Genre Global_Sales\n",
            "1 Grand Theft Auto V Action        21.04\n"
          ]
        }
      ]
    }
  ]
}