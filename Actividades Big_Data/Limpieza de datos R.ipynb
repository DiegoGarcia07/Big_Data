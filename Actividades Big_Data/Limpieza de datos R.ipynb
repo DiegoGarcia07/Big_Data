{
  "nbformat": 4,
  "nbformat_minor": 0,
  "metadata": {
    "colab": {
      "provenance": []
    },
    "kernelspec": {
      "name": "python3",
      "display_name": "Python 3"
    },
    "language_info": {
      "name": "python"
    }
  },
  "cells": [
    {
      "cell_type": "markdown",
      "source": [
        "# Evidencia Final\n",
        "### Iván Gutiérrez Gómez        **Matrícula: 2877087**\n",
        "### Celic Gabriel Hernández Archundia  **2877240**\n",
        "### Diego Alfredo López Malerva **2999206**\n",
        "### Diego Iván García Zarza **2897709**"
      ],
      "metadata": {
        "id": "aFvfTmgcyaRO"
      }
    },
    {
      "cell_type": "code",
      "source": [
        "%%capture\n",
        "!pip install rpy2==3.5.1"
      ],
      "metadata": {
        "id": "uNVVLs9GxYwu"
      },
      "execution_count": null,
      "outputs": []
    },
    {
      "cell_type": "code",
      "source": [
        "%load_ext rpy2.ipython"
      ],
      "metadata": {
        "id": "Q7MxLv0wxY_l"
      },
      "execution_count": null,
      "outputs": []
    },
    {
      "cell_type": "code",
      "source": [
        "from google.colab import drive\n",
        "drive.mount('/content/drive', force_remount=True)"
      ],
      "metadata": {
        "colab": {
          "base_uri": "https://localhost:8080/"
        },
        "id": "62SKbun7ym8F",
        "outputId": "4bd773bf-af80-43b6-ae65-50f04e804ee9"
      },
      "execution_count": null,
      "outputs": [
        {
          "output_type": "stream",
          "name": "stdout",
          "text": [
            "Mounted at /content/drive\n"
          ]
        }
      ]
    },
    {
      "cell_type": "code",
      "source": [
        "%%R\n",
        "library(readr)\n",
        "library(magrittr)\n",
        "library(dplyr)"
      ],
      "metadata": {
        "colab": {
          "base_uri": "https://localhost:8080/"
        },
        "id": "Ssz16sdPy2kd",
        "outputId": "78079c41-248b-4bae-98c1-48e486f1eea1"
      },
      "execution_count": null,
      "outputs": [
        {
          "output_type": "stream",
          "name": "stderr",
          "text": [
            "WARNING:rpy2.rinterface_lib.callbacks:R[write to console]: \n",
            "Attaching package: ‘dplyr’\n",
            "\n",
            "\n",
            "WARNING:rpy2.rinterface_lib.callbacks:R[write to console]: The following objects are masked from ‘package:stats’:\n",
            "\n",
            "    filter, lag\n",
            "\n",
            "\n",
            "WARNING:rpy2.rinterface_lib.callbacks:R[write to console]: The following objects are masked from ‘package:base’:\n",
            "\n",
            "    intersect, setdiff, setequal, union\n",
            "\n",
            "\n"
          ]
        }
      ]
    },
    {
      "cell_type": "code",
      "source": [
        "%%R\n",
        "datos <- read.csv(\"drive/MyDrive/drive/ds_salaries.csv\")"
      ],
      "metadata": {
        "id": "Ncr5KCqfzFmM"
      },
      "execution_count": null,
      "outputs": []
    },
    {
      "cell_type": "markdown",
      "source": [
        "Ejercicio 1\n",
        "1. La columna \"salay_in_usd\" muestra el salario anual en dólares de cada puesto de trabajo. Si un dolar equivale a 17.81 pesos mexicanos, elabore una nueva columna que muestre la conversasión a salario mensual en pesos y muestre el top 10 de los títulos profesionales que tienen el mejor sueldo en ciencia de datos."
      ],
      "metadata": {
        "id": "SPRblolXzaFN"
      }
    },
    {
      "cell_type": "code",
      "source": [
        "%%R\n",
        "datos %>%\n",
        "select(job_title, salary_in_usd) %>%\n",
        "mutate(salario_mx = (17.81*salary_in_usd)/12) %>%\n",
        "select(job_title, salario_mx) %>%\n",
        "arrange( desc(salario_mx)) %>%\n",
        "head(n= 10)"
      ],
      "metadata": {
        "colab": {
          "base_uri": "https://localhost:8080/"
        },
        "id": "RO9MTwD_zbEU",
        "outputId": "b966d03f-d488-4414-88b4-b636c1854b5d"
      },
      "execution_count": null,
      "outputs": [
        {
          "output_type": "stream",
          "name": "stdout",
          "text": [
            "                            job_title salario_mx\n",
            "1                  Research Scientist   667875.0\n",
            "2                        Data Analyst   639626.9\n",
            "3                        AI Scientist   629040.3\n",
            "4  Applied Machine Learning Scientist   627802.5\n",
            "5            Principal Data Scientist   617413.3\n",
            "6                      Data Scientist   611476.7\n",
            "7                 Data Analytics Lead   601087.5\n",
            "8                        Data Analyst   571404.2\n",
            "9              Applied Data Scientist   563983.3\n",
            "10                     Data Architect   558165.4\n"
          ]
        }
      ]
    },
    {
      "cell_type": "markdown",
      "source": [
        "Ejercicio 2 Suponga que desea aplicar este año para un puesto de los presentados  en este conjunto de datos. Si su nivel de experiencia es \"EN\" y quiere obtener el sueldo más alto posible, ¿Qué título le conviene más obtener?  Obtenga el salario promedio de cada puesto cuyo año sea el año actual para encontrar la respuesta y muéstrela  junto con su salario mensual en pesos mexicanos"
      ],
      "metadata": {
        "id": "1Lo8-F-bzba9"
      }
    },
    {
      "cell_type": "code",
      "source": [
        "%%R\n",
        "#17.81\n",
        "datos %>%\n",
        "select(work_year, experience_level, job_title, salary_in_usd) %>%\n",
        "filter(work_year == 2023)%>%\n",
        "filter(experience_level == \"EN\") %>%\n",
        "group_by(job_title) %>%\n",
        "summarize(salario.en.pesos = mean((salary_in_usd)*17.81)/12) %>%\n",
        "arrange(desc(salario.en.pesos)) %>%\n",
        "print(n= 10)\n"
      ],
      "metadata": {
        "colab": {
          "base_uri": "https://localhost:8080/"
        },
        "id": "3tw1L50WzccN",
        "outputId": "dafa1faa-5878-4c55-8427-e27e9ae5fcf6"
      },
      "execution_count": null,
      "outputs": [
        {
          "output_type": "stream",
          "name": "stdout",
          "text": [
            "# A tibble: 19 × 2\n",
            "   job_title                 salario.en.pesos\n",
            "   <chr>                                <dbl>\n",
            " 1 Computer Vision Engineer           326517.\n",
            " 2 Applied Scientist                  248385.\n",
            " 3 Machine Learning Engineer          229364.\n",
            " 4 Research Scientist                 213720 \n",
            " 5 Deep Learning Engineer             200362.\n",
            " 6 BI Developer                       192942.\n",
            " 7 Big Data Engineer                  192942.\n",
            " 8 Research Engineer                  192942.\n",
            " 9 AI Developer                       177730.\n",
            "10 Data Quality Analyst               148417.\n",
            "# ℹ 9 more rows\n",
            "# ℹ Use `print(n = ...)` to see more rows\n"
          ]
        }
      ]
    },
    {
      "cell_type": "markdown",
      "source": [
        "## Le conviene más ser  Computer Vision Engineer"
      ],
      "metadata": {
        "id": "43mLMKztCziJ"
      }
    },
    {
      "cell_type": "markdown",
      "source": [
        "Ejercicio 3  Existen registro de trabajadores que radican en México. Averigüe qué título profesional, nivel de experiencia y salario mensual en pesos mexicanos tienen y ordene los registros de mayor a menor por su salario.\n",
        "Nota: La columna para saber en donde radica un trabajador es \"employee_residence\""
      ],
      "metadata": {
        "id": "7g76zFT8zcsl"
      }
    },
    {
      "cell_type": "code",
      "source": [
        "%%R\n",
        "datos %>%\n",
        "filter(employee_residence == \"MX\") %>%\n",
        "select(job_title, experience_level, salary_in_usd) %>%\n",
        "mutate(salary_in_mx_mensual = ((salary_in_usd)*17.81)/12) %>%\n",
        "select(-salary_in_usd) %>%\n",
        "arrange(desc(salary_in_mx_mensual)) %>%\n",
        "head(10)"
      ],
      "metadata": {
        "colab": {
          "base_uri": "https://localhost:8080/"
        },
        "id": "E17R72bqzdkM",
        "outputId": "e658b98e-e1a9-4c95-a637-059d15f98ad3"
      },
      "execution_count": null,
      "outputs": [
        {
          "output_type": "stream",
          "name": "stdout",
          "text": [
            "                   job_title experience_level salary_in_mx_mensual\n",
            "1  Machine Learning Engineer               SE            378462.50\n",
            "2  Machine Learning Engineer               SE            274570.83\n",
            "3       Data Science Manager               SE            222625.00\n",
            "4       Data Science Manager               SE            133575.00\n",
            "5              Data Engineer               MI            106860.00\n",
            "6              Data Engineer               MI             89050.00\n",
            "7  Machine Learning Engineer               MI             53430.00\n",
            "8              Data Engineer               SE             49735.91\n",
            "9             Data Scientist               MI             44525.00\n",
            "10                BI Analyst               EN             17810.00\n"
          ]
        }
      ]
    },
    {
      "cell_type": "markdown",
      "source": [
        "Ejercicio 4\n",
        "4. Para alguien con experiencia \"EN\" que desea buscar un puesto de tiempo completo y ganar lo más posible, ¿le conviene trabajar de manera remota o presencial?\n",
        "\n",
        "\n"
      ],
      "metadata": {
        "id": "LscHL91Izd6t"
      }
    },
    {
      "cell_type": "code",
      "source": [
        "%%R\n",
        "datos %>%\n",
        "select(experience_level, employment_type, remote_ratio, salary_in_usd) %>%\n",
        "filter(experience_level == \"EN\" & employment_type == \"FT\") %>%\n",
        "group_by(remote_ratio) %>%\n",
        "summarize(salario = mean(salary_in_usd))"
      ],
      "metadata": {
        "colab": {
          "base_uri": "https://localhost:8080/"
        },
        "id": "zjcO4VfHzeqE",
        "outputId": "8300ecb5-ab27-40b4-e4d3-0deea3a3adc3"
      },
      "execution_count": null,
      "outputs": [
        {
          "output_type": "stream",
          "name": "stdout",
          "text": [
            "# A tibble: 3 × 2\n",
            "  remote_ratio salario\n",
            "         <int>   <dbl>\n",
            "1            0 104582.\n",
            "2           50  65344 \n",
            "3          100  67016.\n"
          ]
        }
      ]
    },
    {
      "cell_type": "markdown",
      "source": [
        "### Es más conveniente trabajar de forma presencial que remota si  el objetivo es ganar más dinero"
      ],
      "metadata": {
        "id": "PiIu9UpeCIKB"
      }
    },
    {
      "cell_type": "markdown",
      "source": [
        "Ejercicio 5\n",
        "Cantidad de registros donde el país de residencia de la compañia y del trabajador son diferentes"
      ],
      "metadata": {
        "id": "GAGwc9qGzfIs"
      }
    },
    {
      "cell_type": "code",
      "source": [
        "%%R\n",
        "datos %>%\n",
        "filter(employee_residence != company_location)%>%\n",
        "count()"
      ],
      "metadata": {
        "colab": {
          "base_uri": "https://localhost:8080/"
        },
        "id": "YIlo47rQzgY8",
        "outputId": "d186548c-6e50-42f8-f61f-62bdffe371e7"
      },
      "execution_count": null,
      "outputs": [
        {
          "output_type": "stream",
          "name": "stdout",
          "text": [
            "   n\n",
            "1 96\n"
          ]
        }
      ]
    },
    {
      "cell_type": "markdown",
      "source": [
        "Ejercicio 6 Salario mensual promedio en pesos mexicanos para un trabajador con experiencia \"EN\" en una empresa de tamaño. S, L y M de acuerdo con los datos del año 2022"
      ],
      "metadata": {
        "id": "HjjyK76tzgp2"
      }
    },
    {
      "cell_type": "code",
      "source": [
        "%%R\n",
        "datos %>%\n",
        "select(work_year, experience_level, salary_in_usd, company_size) %>%\n",
        "filter(work_year == 2022)%>%\n",
        "filter(experience_level == \"EN\") %>%\n",
        "group_by(company_size) %>%\n",
        "summarize(salario.en.pesos = mean((salary_in_usd)*17.81)/12)\n"
      ],
      "metadata": {
        "colab": {
          "base_uri": "https://localhost:8080/"
        },
        "id": "9p71k_Mvzhck",
        "outputId": "00ffd4a4-4ae5-4fc2-eebb-2560e2f75f4a"
      },
      "execution_count": null,
      "outputs": [
        {
          "output_type": "stream",
          "name": "stdout",
          "text": [
            "# A tibble: 3 × 2\n",
            "  company_size salario.en.pesos\n",
            "  <chr>                   <dbl>\n",
            "1 L                     105853.\n",
            "2 M                     127823.\n",
            "3 S                      83360.\n"
          ]
        }
      ]
    },
    {
      "cell_type": "markdown",
      "source": [
        "Ejercicio 7 Top 10 Cantidad de trabajadores de cada país registrado  que trabajan  en una compañía ubicada en Estados Unidos (ordenados de mayor a menor)"
      ],
      "metadata": {
        "id": "Duh9AmkAzhtc"
      }
    },
    {
      "cell_type": "code",
      "source": [
        "%%R\n",
        "datos %>%\n",
        "filter(company_location == \"US\")%>%\n",
        "group_by(employee_residence)%>%\n",
        "count()%>%\n",
        "arrange(desc(n))%>%\n",
        "head(10)"
      ],
      "metadata": {
        "colab": {
          "base_uri": "https://localhost:8080/"
        },
        "id": "bEUsTU74zkCs",
        "outputId": "8a120218-5e63-48ed-c835-7b42fe04269f"
      },
      "execution_count": null,
      "outputs": [
        {
          "output_type": "stream",
          "name": "stdout",
          "text": [
            "# A tibble: 10 × 2\n",
            "# Groups:   employee_residence [10]\n",
            "   employee_residence     n\n",
            "   <chr>              <int>\n",
            " 1 US                  2999\n",
            " 2 IN                     7\n",
            " 3 BR                     3\n",
            " 4 ES                     3\n",
            " 5 AR                     2\n",
            " 6 BO                     2\n",
            " 7 PT                     2\n",
            " 8 RU                     2\n",
            " 9 BE                     1\n",
            "10 BG                     1\n"
          ]
        }
      ]
    },
    {
      "cell_type": "markdown",
      "source": [
        "Ejercicio 8 ¿Cuál es la equivalencia en promedio de cada moneda utilizada para la conversión en dólares?"
      ],
      "metadata": {
        "id": "0g6w2F92zmFO"
      }
    },
    {
      "cell_type": "code",
      "source": [
        "%%R\n",
        "datos %>%\n",
        "group_by(salary_currency) %>%\n",
        "filter(salary_currency != \"USD\") %>%\n",
        "summarize(promedio =mean(salary)/mean(salary_in_usd))"
      ],
      "metadata": {
        "colab": {
          "base_uri": "https://localhost:8080/"
        },
        "id": "0uPDfsAwzm28",
        "outputId": "86d06e4b-7aa2-485c-897b-e2f2ce418c12"
      },
      "execution_count": null,
      "outputs": [
        {
          "output_type": "stream",
          "name": "stdout",
          "text": [
            "# A tibble: 19 × 2\n",
            "   salary_currency promedio\n",
            "   <chr>              <dbl>\n",
            " 1 AUD                1.43 \n",
            " 2 BRL                5.27 \n",
            " 3 CAD                1.29 \n",
            " 4 CHF                0.946\n",
            " 5 CLP              759.   \n",
            " 6 CZK               23.4  \n",
            " 7 DKK                6.41 \n",
            " 8 EUR                0.918\n",
            " 9 GBP                0.809\n",
            "10 HKD                7.84 \n",
            "11 HUF              319.   \n",
            "12 ILS                3.54 \n",
            "13 INR               77.0  \n",
            "14 JPY              109.   \n",
            "15 MXN               21.5  \n",
            "16 PLN                4.19 \n",
            "17 SGD                1.35 \n",
            "18 THB               34.0  \n",
            "19 TRY                8.92 \n"
          ]
        }
      ]
    }
  ]
}