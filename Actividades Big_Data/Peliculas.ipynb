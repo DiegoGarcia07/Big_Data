{
  "nbformat": 4,
  "nbformat_minor": 0,
  "metadata": {
    "colab": {
      "provenance": []
    },
    "kernelspec": {
      "name": "python3",
      "display_name": "Python 3"
    },
    "language_info": {
      "name": "python"
    }
  },
  "cells": [
    {
      "cell_type": "markdown",
      "source": [
        "# Diego Ivan Garcia Zarza    2897709\n"
      ],
      "metadata": {
        "id": "F5S-ymjJMMkd"
      }
    },
    {
      "cell_type": "code",
      "source": [
        "%%capture\n",
        "!pip install rpy2==3.5.1"
      ],
      "metadata": {
        "id": "Zr-KNDvbMQU4"
      },
      "execution_count": null,
      "outputs": []
    },
    {
      "cell_type": "code",
      "source": [
        "%load_ext rpy2.ipython"
      ],
      "metadata": {
        "id": "fIgPFuFzMdQO"
      },
      "execution_count": null,
      "outputs": []
    },
    {
      "cell_type": "code",
      "source": [
        "from google.colab import drive\n",
        "drive.mount('/content/drive', force_remount=True)"
      ],
      "metadata": {
        "colab": {
          "base_uri": "https://localhost:8080/"
        },
        "id": "N4omNEBaMiJu",
        "outputId": "109b4d6e-80d7-4aad-a96d-53f0045e7a93"
      },
      "execution_count": null,
      "outputs": [
        {
          "output_type": "stream",
          "name": "stdout",
          "text": [
            "Mounted at /content/drive\n"
          ]
        }
      ]
    },
    {
      "cell_type": "code",
      "source": [
        "%%R\n",
        "library(readr)\n",
        "library(magrittr)\n",
        "library(dplyr)"
      ],
      "metadata": {
        "id": "1j6wgqzLMmLF",
        "colab": {
          "base_uri": "https://localhost:8080/"
        },
        "outputId": "268d0e3a-66bd-4352-b3c2-c8b2584bd456"
      },
      "execution_count": null,
      "outputs": [
        {
          "output_type": "stream",
          "name": "stderr",
          "text": [
            "WARNING:rpy2.rinterface_lib.callbacks:R[write to console]: \n",
            "Attaching package: ‘dplyr’\n",
            "\n",
            "\n",
            "WARNING:rpy2.rinterface_lib.callbacks:R[write to console]: The following objects are masked from ‘package:stats’:\n",
            "\n",
            "    filter, lag\n",
            "\n",
            "\n",
            "WARNING:rpy2.rinterface_lib.callbacks:R[write to console]: The following objects are masked from ‘package:base’:\n",
            "\n",
            "    intersect, setdiff, setequal, union\n",
            "\n",
            "\n"
          ]
        }
      ]
    },
    {
      "cell_type": "code",
      "source": [
        "%%R\n",
        "data <- read.csv(\"drive/MyDrive/Big_Data/movies.csv\")"
      ],
      "metadata": {
        "id": "ILmVXTkHMxwP"
      },
      "execution_count": null,
      "outputs": []
    },
    {
      "cell_type": "markdown",
      "source": [
        "9. Top 10 de las compañias con mas peliculas producidas"
      ],
      "metadata": {
        "id": "2u2N7gAhNkpW"
      }
    },
    {
      "cell_type": "code",
      "source": [
        "%%R\n",
        "data%>%\n",
        "group_by(company) %>%\n",
        "summarize(cantidad = n()) %>%\n",
        "arrange(desc(cantidad)) %>%\n",
        "head(10)"
      ],
      "metadata": {
        "colab": {
          "base_uri": "https://localhost:8080/"
        },
        "id": "fhahdu_VOEi1",
        "outputId": "8bbd0c0a-e4a8-419a-8734-ff7b7c706329"
      },
      "execution_count": null,
      "outputs": [
        {
          "output_type": "stream",
          "name": "stdout",
          "text": [
            "# A tibble: 10 × 2\n",
            "   company                   cantidad\n",
            "   <chr>                        <int>\n",
            " 1 Universal Pictures             377\n",
            " 2 Warner Bros.                   334\n",
            " 3 Columbia Pictures              332\n",
            " 4 Paramount Pictures             320\n",
            " 5 Twentieth Century Fox          240\n",
            " 6 New Line Cinema                174\n",
            " 7 Touchstone Pictures            132\n",
            " 8 Metro-Goldwyn-Mayer (MGM)      125\n",
            " 9 Walt Disney Pictures           123\n",
            "10 TriStar Pictures                94\n"
          ]
        }
      ]
    },
    {
      "cell_type": "markdown",
      "source": [
        "10. Pelicula con el menor y mayor duracion\n"
      ],
      "metadata": {
        "id": "97KsvFM2Pl1n"
      }
    },
    {
      "cell_type": "code",
      "source": [
        "%%R\n",
        "data%>%\n",
        "select(name,runtime) %>%\n",
        "arrange(desc(runtime))%>%\n",
        "head(1) -> maximo\n",
        "\n",
        "data%>%\n",
        "select(name,runtime) %>%\n",
        "filter(!is.na(runtime))%>%\n",
        "arrange(desc(runtime))%>%\n",
        "tail(1)%>%\n",
        "head(1) -> minimo\n",
        "\n",
        "c(maximo,minimo)"
      ],
      "metadata": {
        "colab": {
          "base_uri": "https://localhost:8080/"
        },
        "id": "5a92ZgEWQPt6",
        "outputId": "7ba12de9-ef2a-4698-ccb5-f6489deb9e5d"
      },
      "execution_count": null,
      "outputs": [
        {
          "output_type": "stream",
          "name": "stdout",
          "text": [
            "$name\n",
            "[1] \"The Best of Youth\"\n",
            "\n",
            "$runtime\n",
            "[1] 366\n",
            "\n",
            "$name\n",
            "[1] \"The Business of Show Business\"\n",
            "\n",
            "$runtime\n",
            "[1] 55\n",
            "\n"
          ]
        }
      ]
    },
    {
      "cell_type": "markdown",
      "source": [
        "11. Top 3 de los escritores con mas trabajos en el siglo XX"
      ],
      "metadata": {
        "id": "ktYKoJimgKFz"
      }
    },
    {
      "cell_type": "code",
      "source": [
        "%%R\n",
        "data %>%\n",
        "group_by(writer) %>%\n",
        "filter( year>\"1900\" & year <\"2000\") %>%\n",
        "summarize(cantidad = n()) %>%\n",
        "arrange(desc(cantidad)) %>%\n",
        "head(3)"
      ],
      "metadata": {
        "colab": {
          "base_uri": "https://localhost:8080/"
        },
        "id": "8ftthTYij9WC",
        "outputId": "29052450-9529-4235-f525-95dda47bba73"
      },
      "execution_count": null,
      "outputs": [
        {
          "output_type": "stream",
          "name": "stdout",
          "text": [
            "# A tibble: 3 × 2\n",
            "  writer       cantidad\n",
            "  <chr>           <int>\n",
            "1 Stephen King       26\n",
            "2 John Hughes        24\n",
            "3 Woody Allen        20\n"
          ]
        }
      ]
    },
    {
      "cell_type": "markdown",
      "source": [
        "12. Top 3 directores con mas trabajos en tu año de nacimiento"
      ],
      "metadata": {
        "id": "P-q8Ij64lMxw"
      }
    },
    {
      "cell_type": "code",
      "source": [
        "%%R\n",
        "data %>%\n",
        "group_by(director) %>%\n",
        "filter( year == \"2003\") %>%\n",
        "summarize(cantidad = n()) %>%\n",
        "arrange(desc(cantidad)) %>%\n",
        "head(3)"
      ],
      "metadata": {
        "colab": {
          "base_uri": "https://localhost:8080/"
        },
        "id": "mihJn7h_liSg",
        "outputId": "690072d9-c42f-4e50-8c7d-edb2995ae48b"
      },
      "execution_count": null,
      "outputs": [
        {
          "output_type": "stream",
          "name": "stdout",
          "text": [
            "# A tibble: 3 × 2\n",
            "  director       cantidad\n",
            "  <chr>             <int>\n",
            "1 David Zucker          2\n",
            "2 F. Gary Gray          2\n",
            "3 Lana Wachowski        2\n"
          ]
        }
      ]
    },
    {
      "cell_type": "markdown",
      "source": [
        "13. Top 10 de los mejores generos de peliculas basados en su Score"
      ],
      "metadata": {
        "id": "HsOMeav-mNYt"
      }
    },
    {
      "cell_type": "code",
      "source": [
        "%%R\n",
        "data %>%\n",
        "group_by(genre)%>%\n",
        "summarize(calif = mean(score)) %>%\n",
        "arrange(desc(calif)) %>%\n",
        "head(10)"
      ],
      "metadata": {
        "colab": {
          "base_uri": "https://localhost:8080/"
        },
        "id": "6ZyUhbMSmXbZ",
        "outputId": "8db1e155-0004-40d5-e61d-a53531417c9f"
      },
      "execution_count": null,
      "outputs": [
        {
          "output_type": "stream",
          "name": "stdout",
          "text": [
            "# A tibble: 10 × 2\n",
            "   genre     calif\n",
            "   <chr>     <dbl>\n",
            " 1 History    8.3 \n",
            " 2 Musical    8.05\n",
            " 3 Music      7.2 \n",
            " 4 Biography  7.03\n",
            " 5 Animation  6.77\n",
            " 6 Crime      6.67\n",
            " 7 Mystery    6.66\n",
            " 8 Romance    6.41\n",
            " 9 Family     6.36\n",
            "10 Adventure  6.29\n"
          ]
        }
      ]
    },
    {
      "cell_type": "markdown",
      "source": [
        "14. ¿Cuantas peliculas se estrenaron en tu fecha de cumpleaños?\n"
      ],
      "metadata": {
        "id": "0qrz6v5Gmz-j"
      }
    },
    {
      "cell_type": "code",
      "source": [
        "%%R\n",
        "data %>%\n",
        "filter(grepl(\"October 10\", released)) %>%\n",
        "count()"
      ],
      "metadata": {
        "colab": {
          "base_uri": "https://localhost:8080/"
        },
        "id": "54DgmiuIm8q7",
        "outputId": "2d92115f-9f8e-4ff6-8805-d3ced2472de6"
      },
      "execution_count": null,
      "outputs": [
        {
          "output_type": "stream",
          "name": "stdout",
          "text": [
            "   n\n",
            "1 30\n"
          ]
        }
      ]
    },
    {
      "cell_type": "markdown",
      "source": [
        "15. Cantidad de peliculas donde el director y el escritorson la misma persona"
      ],
      "metadata": {
        "id": "1Je0auRUpBM0"
      }
    },
    {
      "cell_type": "code",
      "source": [
        "%%R\n",
        "data %>%\n",
        "filter(director == writer)%>%\n",
        "count()"
      ],
      "metadata": {
        "colab": {
          "base_uri": "https://localhost:8080/"
        },
        "id": "0X8QzWrSpK0W",
        "outputId": "897ac15b-b6af-45cd-de9a-f0c3c39eb7f2"
      },
      "execution_count": null,
      "outputs": [
        {
          "output_type": "stream",
          "name": "stdout",
          "text": [
            "     n\n",
            "1 2164\n"
          ]
        }
      ]
    },
    {
      "cell_type": "markdown",
      "source": [
        "16. Cantidad de peliculas donde el protagonistay el director son la misma persona"
      ],
      "metadata": {
        "id": "jmcuvKzQpVtQ"
      }
    },
    {
      "cell_type": "code",
      "source": [
        "%%R\n",
        "data %>%\n",
        "filter(director == star)%>%\n",
        "count()"
      ],
      "metadata": {
        "colab": {
          "base_uri": "https://localhost:8080/"
        },
        "id": "6G261KO-pehT",
        "outputId": "37a16fdf-978e-4dd0-f354-0fe22a807bc6"
      },
      "execution_count": null,
      "outputs": [
        {
          "output_type": "stream",
          "name": "stdout",
          "text": [
            "    n\n",
            "1 205\n"
          ]
        }
      ]
    },
    {
      "cell_type": "markdown",
      "source": [
        "17. Top 10 de directores que han sido escritores durante mas peliculas"
      ],
      "metadata": {
        "id": "qkYSQ50AnOlJ"
      }
    },
    {
      "cell_type": "code",
      "source": [
        "%%R\n",
        "data %>%\n",
        "group_by(director)%>%\n",
        "filter(director == writer)%>%\n",
        "summarize(cantidad = n())%>%\n",
        "arrange(desc(cantidad))%>%\n",
        "head(10)"
      ],
      "metadata": {
        "colab": {
          "base_uri": "https://localhost:8080/"
        },
        "id": "az6rBZHYnYh7",
        "outputId": "e1f51301-091e-428d-ef37-1f34a4d6b3e6"
      },
      "execution_count": null,
      "outputs": [
        {
          "output_type": "stream",
          "name": "stdout",
          "text": [
            "# A tibble: 10 × 2\n",
            "   director           cantidad\n",
            "   <chr>                 <int>\n",
            " 1 Woody Allen              37\n",
            " 2 Pedro Almodóvar          13\n",
            " 3 Jim Jarmusch             11\n",
            " 4 Lars von Trier           11\n",
            " 5 M. Night Shyamalan       11\n",
            " 6 Kevin Smith              10\n",
            " 7 Richard Linklater        10\n",
            " 8 Tyler Perry              10\n",
            " 9 Luc Besson                9\n",
            "10 Quentin Tarantino         9\n"
          ]
        }
      ]
    },
    {
      "cell_type": "markdown",
      "source": [
        "18. Actor con mas peliculas protagonizadas de tu genero favorito"
      ],
      "metadata": {
        "id": "cCYcNrP1pl6-"
      }
    },
    {
      "cell_type": "code",
      "source": [
        "%%R\n",
        "data %>%\n",
        "filter ( genre == \"Horror\")%>%\n",
        "group_by(star)%>%\n",
        "summarize(cantidad = n())%>%\n",
        "arrange(desc(cantidad))%>%\n",
        "head(1)"
      ],
      "metadata": {
        "colab": {
          "base_uri": "https://localhost:8080/"
        },
        "id": "JBajxvNMpsT_",
        "outputId": "58a431f3-e68f-4675-be8e-fc1accaffe70"
      },
      "execution_count": null,
      "outputs": [
        {
          "output_type": "stream",
          "name": "stdout",
          "text": [
            "# A tibble: 1 × 2\n",
            "  star             cantidad\n",
            "  <chr>               <int>\n",
            "1 Donald Pleasence        4\n"
          ]
        }
      ]
    }
  ]
}